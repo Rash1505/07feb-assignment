{
 "cells": [
  {
   "cell_type": "markdown",
   "id": "958489f8-2988-45c5-9625-e690adb542c8",
   "metadata": {},
   "source": [
    "Q1. you are writing a code for a company. The requirement of the company is that you create a python\n",
    "    function that will check whether the password entered by the user is correct or not. The function should\n",
    "    take the password as input and return the string \"valid Password\"if the entered password follows the \n",
    "    below-given password guidlines else it should return\"Invalid Password\".\n",
    "\n",
    "Note: 1.The Password should contain at least two uppercase letters and at least two lowercase letters.\n",
    "2.The Password should contain at least a number and three special characters.\n",
    "3.The length of the password should be 10 characters long."
   ]
  },
  {
   "cell_type": "code",
   "execution_count": 23,
   "id": "fe46b282-6173-4418-8499-2051d4f2aa10",
   "metadata": {},
   "outputs": [],
   "source": [
    "def check_password(password) :\n",
    "    if len(password) != 10 :\n",
    "        return 'Invalid Password'\n",
    "    upper_count = 0\n",
    "    lower_count = 0\n",
    "    number_count =0\n",
    "    special_count = 0\n",
    "    for i in password :\n",
    "        if i.isupper():\n",
    "            upper_count += 1\n",
    "        if i.islower():\n",
    "            lower_count += 1\n",
    "        if i.isdigit():\n",
    "            number_count += 1\n",
    "        else :\n",
    "            special_count += 1\n",
    "    if upper_count >= 2 and lower_count >= 2 and number_count >= 1 and special_count >= 3:\n",
    "        return 'Valid Password'\n",
    "    else :\n",
    "        return 'Invalid Password'\n"
   ]
  },
  {
   "cell_type": "code",
   "execution_count": 24,
   "id": "0451cd23-fbb4-4a9a-9b4f-540553204ec5",
   "metadata": {},
   "outputs": [
    {
     "data": {
      "text/plain": [
       "'Valid Password'"
      ]
     },
     "execution_count": 24,
     "metadata": {},
     "output_type": "execute_result"
    }
   ],
   "source": [
    "check_password('ABcd1@#$23')"
   ]
  },
  {
   "cell_type": "markdown",
   "id": "acf68e71-298d-4b90-a961-4a10517409ac",
   "metadata": {},
   "source": [
    "Q2. Solve the below-given questions using at least one of the following:\n",
    "    1.Lambda function\n",
    "    2.Filter function\n",
    "    3.Map function \n",
    "    4.List function\n",
    "    \n",
    "    a)check if the string starts with a particular letter.\n",
    "    b)check if the string is numeric.\n",
    "    c)sort a list of tuples having fruit names and their quality.[('mango',99),('orange',80),('grapes',1000)]\n",
    "    d)find the square of number from 1 to 10.\n",
    "    e)find the cube root of number from 1 to 10.\n",
    "    f)check if a given number is even.\n",
    "    g)Filter odd numbers from the given list.\n",
    "    [1,2,3,4,5,6,7,8,9,10]\n",
    "    h)Sort a list of integers into positive and negative integers list.\n",
    "    [1,2,3,4,5,6,-1,-1,-3,-4,-5,0]"
   ]
  },
  {
   "cell_type": "code",
   "execution_count": 30,
   "id": "9ab1bfe3-5e89-4de6-9758-41cabc05fd6f",
   "metadata": {},
   "outputs": [
    {
     "name": "stdout",
     "output_type": "stream",
     "text": [
      "string starts with A\n"
     ]
    }
   ],
   "source": [
    "#a\n",
    "\n",
    "string='A'\n",
    "\n",
    "s=lambda x : x.startswith(string)\n",
    "if s(string):\n",
    "        print('string starts with A')\n",
    "else:\n",
    "    print('string not starts with A')\n",
    "        "
   ]
  },
  {
   "cell_type": "code",
   "execution_count": 31,
   "id": "307f625c-74a7-46ae-9b66-0c122be95ced",
   "metadata": {},
   "outputs": [
    {
     "name": "stdout",
     "output_type": "stream",
     "text": [
      "string is numeric\n"
     ]
    }
   ],
   "source": [
    "#b\n",
    "\n",
    "string='7890'\n",
    "\n",
    "s1=lambda x : x.isdigit()\n",
    "if s1(string):\n",
    "    print('string is numeric')\n",
    "else:\n",
    "    print('string is not numeric')\n"
   ]
  },
  {
   "cell_type": "code",
   "execution_count": 34,
   "id": "d9bf2504-78c3-4a1f-8720-22043264e793",
   "metadata": {},
   "outputs": [],
   "source": [
    "t=[('mango',99),('orange',80),('grapes',1000)]\n",
    "a=lambda x : sorted(x)"
   ]
  },
  {
   "cell_type": "code",
   "execution_count": 36,
   "id": "eb39bd76-a06b-440e-b48a-7f2c818e46e2",
   "metadata": {},
   "outputs": [
    {
     "data": {
      "text/plain": [
       "[('grapes', 1000), ('mango', 99), ('orange', 80)]"
      ]
     },
     "execution_count": 36,
     "metadata": {},
     "output_type": "execute_result"
    }
   ],
   "source": [
    "a(t)"
   ]
  },
  {
   "cell_type": "code",
   "execution_count": 5,
   "id": "33c939c7-84ad-4a8e-85a0-da3f2db3b194",
   "metadata": {},
   "outputs": [
    {
     "data": {
      "text/plain": [
       "[1, 4, 9, 16, 25, 36, 49, 64, 81, 100]"
      ]
     },
     "execution_count": 5,
     "metadata": {},
     "output_type": "execute_result"
    }
   ],
   "source": [
    "#d\n",
    "\n",
    "l=list(range(1,11))\n",
    "\n",
    "list(map(lambda i : i**2,l))\n"
   ]
  },
  {
   "cell_type": "code",
   "execution_count": 4,
   "id": "139122e4-820a-41f1-a5d2-2ac6a0c67c89",
   "metadata": {},
   "outputs": [
    {
     "data": {
      "text/plain": [
       "[1.0,\n",
       " 1.2599210498948732,\n",
       " 1.4422495703074083,\n",
       " 1.5874010519681994,\n",
       " 1.7099759466766968,\n",
       " 1.8171205928321397,\n",
       " 1.912931182772389,\n",
       " 2.0,\n",
       " 2.080083823051904,\n",
       " 2.154434690031884]"
      ]
     },
     "execution_count": 4,
     "metadata": {},
     "output_type": "execute_result"
    }
   ],
   "source": [
    "#e\n",
    "\n",
    "l=list(range(1,11))\n",
    "list(map(lambda i : i**(1/3), l))"
   ]
  },
  {
   "cell_type": "code",
   "execution_count": 10,
   "id": "acc2c7c3-3d6b-4062-a487-bf0b8116570b",
   "metadata": {},
   "outputs": [],
   "source": [
    "#f\n",
    "\n",
    "even = lambda i : i % 2== 0"
   ]
  },
  {
   "cell_type": "code",
   "execution_count": 15,
   "id": "dcaad9e4-d583-4784-beca-377d7f080c17",
   "metadata": {},
   "outputs": [
    {
     "data": {
      "text/plain": [
       "True"
      ]
     },
     "execution_count": 15,
     "metadata": {},
     "output_type": "execute_result"
    }
   ],
   "source": [
    "even(30)"
   ]
  },
  {
   "cell_type": "code",
   "execution_count": 20,
   "id": "14672a99-af71-470a-86b2-dec707e236b8",
   "metadata": {},
   "outputs": [
    {
     "data": {
      "text/plain": [
       "[1, 3, 5, 7, 9]"
      ]
     },
     "execution_count": 20,
     "metadata": {},
     "output_type": "execute_result"
    }
   ],
   "source": [
    "#g\n",
    "\n",
    "l=[1,2,3,4,5,6,7,8,9,10]\n",
    "\n",
    "list(filter(lambda i : i % 2 ==1,l))"
   ]
  },
  {
   "cell_type": "code",
   "execution_count": 21,
   "id": "1690115e-8c57-4548-80fe-e0b686360576",
   "metadata": {},
   "outputs": [],
   "source": [
    "#h\n",
    "\n",
    "k=[1,2,3,4,5,6,-1,-2,-3,-4,-5,0]\n",
    "\n",
    "positive_list=list(filter(lambda i : i>0,k))"
   ]
  },
  {
   "cell_type": "code",
   "execution_count": 22,
   "id": "5f4b4fb4-5294-4848-8c72-2cd1fee963ba",
   "metadata": {},
   "outputs": [
    {
     "data": {
      "text/plain": [
       "[1, 2, 3, 4, 5, 6]"
      ]
     },
     "execution_count": 22,
     "metadata": {},
     "output_type": "execute_result"
    }
   ],
   "source": [
    "positive_list"
   ]
  },
  {
   "cell_type": "code",
   "execution_count": 24,
   "id": "c6fbd9eb-0b08-47a0-8cf8-1ab142e9c33a",
   "metadata": {},
   "outputs": [],
   "source": [
    "negative_list=list(filter(lambda i : i<0,k))"
   ]
  },
  {
   "cell_type": "code",
   "execution_count": null,
   "id": "1e2976bd-3528-4f27-a391-6b469d3adc81",
   "metadata": {},
   "outputs": [],
   "source": []
  }
 ],
 "metadata": {
  "kernelspec": {
   "display_name": "Python 3 (ipykernel)",
   "language": "python",
   "name": "python3"
  },
  "language_info": {
   "codemirror_mode": {
    "name": "ipython",
    "version": 3
   },
   "file_extension": ".py",
   "mimetype": "text/x-python",
   "name": "python",
   "nbconvert_exporter": "python",
   "pygments_lexer": "ipython3",
   "version": "3.10.8"
  }
 },
 "nbformat": 4,
 "nbformat_minor": 5
}
